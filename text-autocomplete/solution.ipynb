{
 "cells": [
  {
   "cell_type": "code",
   "execution_count": null,
   "id": "e8843c5e",
   "metadata": {},
   "outputs": [],
   "source": [
    "from src import data_utils"
   ]
  },
  {
   "cell_type": "code",
   "execution_count": null,
   "id": "b200d76c",
   "metadata": {},
   "outputs": [],
   "source": [
    "# Prepare dataset\n",
    "with open(\"data/raw_dataset.txt\", \"r\") as f_in:\n",
    "    dataset = [line for line in f_in]\n",
    "    cleaned = list(map(data_utils.clean_string, dataset))\n",
    "    data_utils.split(\n",
    "        cleaned,\n",
    "        \"data/train.txt\",\n",
    "        \"data/val.txt\",\n",
    "        \"data/test.txt\")\n",
    "\n",
    "    # with open(\"data/clean_dataset.txt\", \"w\") as f_out:\n",
    "    #     f_out.writelines(cleaned)"
   ]
  }
 ],
 "metadata": {
  "kernelspec": {
   "display_name": "venv_sprint_2",
   "language": "python",
   "name": "python3"
  },
  "language_info": {
   "codemirror_mode": {
    "name": "ipython",
    "version": 3
   },
   "file_extension": ".py",
   "mimetype": "text/x-python",
   "name": "python",
   "nbconvert_exporter": "python",
   "pygments_lexer": "ipython3",
   "version": "3.12.11"
  }
 },
 "nbformat": 4,
 "nbformat_minor": 5
}
