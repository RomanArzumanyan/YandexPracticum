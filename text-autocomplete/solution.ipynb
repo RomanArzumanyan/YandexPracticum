{
 "cells": [
  {
   "cell_type": "code",
   "execution_count": null,
   "id": "e8843c5e",
   "metadata": {},
   "outputs": [],
   "source": [
    "from src import data_utils, data_set, lstm_model, transformer\n",
    "from tqdm import tqdm\n",
    "\n",
    "TOKENIZER = data_set.TOKENIZER\n",
    "MIN_LEN = data_set.MIN_LEN\n",
    "NUM_WORDS = 3\n",
    "ROUGE = lstm_model.ROUGE"
   ]
  },
  {
   "cell_type": "markdown",
   "id": "fc169a34",
   "metadata": {},
   "source": [
    "Prepare datasets and data loaders"
   ]
  },
  {
   "cell_type": "code",
   "execution_count": null,
   "id": "f7165777",
   "metadata": {},
   "outputs": [],
   "source": [
    "clean = data_utils.clean_up(data_utils.load_dataset(\n",
    "    \"data/raw_dataset.txt\", cap=100000))\n",
    "\n",
    "splits = data_utils.split_dataset(clean)\n",
    "\n",
    "# Create dataset and data loader for train and validation\n",
    "data_sets = []\n",
    "data_loaders = []\n",
    "for split in [splits['train'], splits['val']]:\n",
    "    dset, dloader = data_set.prepare_data(split)\n",
    "    data_sets.append(dset)\n",
    "    data_loaders.append(dloader)"
   ]
  },
  {
   "cell_type": "markdown",
   "id": "bb550267",
   "metadata": {},
   "source": [
    "Train LSTM model"
   ]
  },
  {
   "cell_type": "code",
   "execution_count": null,
   "id": "e3d8425f",
   "metadata": {},
   "outputs": [],
   "source": [
    "lstm = lstm_model.Lstm(TOKENIZER)\n",
    "lstm_model.train(lstm, n_epochs=3, l_rate=0.002, tokenizer=TOKENIZER,\n",
    "                 train_loader=data_loaders[0], val_loader=data_loaders[1])"
   ]
  },
  {
   "cell_type": "markdown",
   "id": "ca439fac",
   "metadata": {},
   "source": [
    "LSTM inference with autoregression. \\\n",
    "During the inference, NN will predict NUM_WORDS for every sentence. \\\n",
    "This number is fixed because otherwise every dataset entry will undergo inference variable amount of times."
   ]
  },
  {
   "cell_type": "code",
   "execution_count": null,
   "id": "5d5d4edf",
   "metadata": {},
   "outputs": [],
   "source": [
    "# Fill inference data.\n",
    "# Last NUM_WORDS words from every sentence will be trimmed.\n",
    "# During the inference, NN will predict NUM_WORDS tokens for every sentence.\n",
    "# This number is fixed because otherwise (tell NN to predict 1/4 of input) every\n",
    "# dataset entry will undergo inference variable amount of times.\n",
    "lstm_split = []\n",
    "true_split = []\n",
    "for i in range(0, len(splits['test'])):\n",
    "    words = splits['test'][i].split()\n",
    "    if len(words) < MIN_LEN + NUM_WORDS:\n",
    "        continue\n",
    "    ctx_len = len(words) - NUM_WORDS\n",
    "    context = ' '.join(words[:ctx_len])\n",
    "    target = ' '.join(words[ctx_len:])\n",
    "    lstm_split.append(context)\n",
    "    true_split.append(context + ' ' + target)\n",
    "\n",
    "# Save ourselves some work in the near future.\n",
    "gpt2_split = lstm_split\n",
    "\n",
    "# Autoregression is done via concatenation of user input and model output\n",
    "# Tell dataset not to trim last token because it's already done above.\n",
    "for i in range(0, NUM_WORDS):\n",
    "    _, dloader = data_set.prepare_data(\n",
    "        lstm_split, shuffle=False, num_targets=0)\n",
    "    preds = lstm_model.inference(lstm, loader=dloader, tokenizer=TOKENIZER)\n",
    "    lstm_split = [x + ' ' + y for x, y in zip(lstm_split, preds)]\n",
    "\n",
    "rouge_score = ROUGE.compute(predictions=lstm_split, references=true_split)\n",
    "print('ROUGE metrics')\n",
    "for k, v in rouge_score.items():\n",
    "    print(f\"{k}: {v:.4f}\")"
   ]
  },
  {
   "cell_type": "markdown",
   "id": "44786259",
   "metadata": {},
   "source": [
    "DistilGPT2 inference and autoregression"
   ]
  },
  {
   "cell_type": "code",
   "execution_count": null,
   "id": "1d5cc692",
   "metadata": {},
   "outputs": [],
   "source": [
    "gpt2 = transformer.DistilGPT2()\n",
    "gpt2.inference(splits[\"test\"])\n",
    "\n",
    "while True:\n",
    "    prompt = input(\"Enter sentence, \\\"quit\\\" to exit: \")\n",
    "    if prompt == \"quit\":\n",
    "        break\n",
    "\n",
    "    # Predict last 1/4 of sentence\n",
    "    num_words = max(1, len(prompt.split()) // 3)\n",
    "\n",
    "    # Autoregression is done via concatenation of user input and\n",
    "    # model output\n",
    "    for i in range(0, num_words):\n",
    "        clean = data_utils.clean_up([prompt])\n",
    "        prompt = prompt + \" \" + gpt2.autocomplete(prompt)\n",
    "    print(prompt)"
   ]
  }
 ],
 "metadata": {
  "kernelspec": {
   "display_name": "venv_sprint_2",
   "language": "python",
   "name": "python3"
  },
  "language_info": {
   "codemirror_mode": {
    "name": "ipython",
    "version": 3
   },
   "file_extension": ".py",
   "mimetype": "text/x-python",
   "name": "python",
   "nbconvert_exporter": "python",
   "pygments_lexer": "ipython3",
   "version": "3.12.11"
  }
 },
 "nbformat": 4,
 "nbformat_minor": 5
}
