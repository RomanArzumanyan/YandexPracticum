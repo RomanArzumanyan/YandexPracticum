{
 "cells": [
  {
   "cell_type": "markdown",
   "id": "f180e0c9",
   "metadata": {},
   "source": [
    "Импортируем модули и глобальные переменные на уровне модулей.\n"
   ]
  },
  {
   "cell_type": "code",
   "execution_count": 1,
   "id": "d1e871b9",
   "metadata": {},
   "outputs": [],
   "source": [
    "from src import data_utils, data_set, lstm_model, transformer\n",
    "\n",
    "TOKENIZER = data_set.TOKENIZER\n",
    "MIN_LEN = data_set.MIN_LEN\n",
    "ROUGE = lstm_model.ROUGE"
   ]
  },
  {
   "cell_type": "markdown",
   "id": "fc169a34",
   "metadata": {},
   "source": [
    "Готовим данные:\n",
    "- Загружаем датасет.\n",
    "- Чистим его с помощью регулярных выражений.\n",
    "- Разбиваем на сеты для обучения и валидации."
   ]
  },
  {
   "cell_type": "code",
   "execution_count": null,
   "id": "56dd5a76",
   "metadata": {},
   "outputs": [],
   "source": [
    "url = \"https://code.s3.yandex.net/deep-learning/tweets.txt\"\n",
    "filename = \"data/raw_dataset.txt\"\n",
    "data_utils.download_from_url(url, filename)"
   ]
  },
  {
   "cell_type": "code",
   "execution_count": 2,
   "id": "f7165777",
   "metadata": {},
   "outputs": [],
   "source": [
    "# Аргумент cap ограничивает число строк, которые будут загружены.\n",
    "# Значения до 100К удобны для проверки. Тетрадка отработает за несколько минут.\n",
    "clean = data_utils.clean_up(data_utils.load_dataset(\n",
    "    \"data/raw_dataset.txt\", cap=10000))\n",
    "\n",
    "splits = data_utils.split_dataset(clean)\n",
    "\n",
    "data_sets = []\n",
    "data_loaders = []\n",
    "for split in [splits['train'], splits['val']]:\n",
    "    dset, dloader = data_set.prepare_data(split)\n",
    "    data_sets.append(dset)\n",
    "    data_loaders.append(dloader)"
   ]
  },
  {
   "cell_type": "markdown",
   "id": "bb550267",
   "metadata": {},
   "source": [
    "Обучаем LSTM модель"
   ]
  },
  {
   "cell_type": "code",
   "execution_count": null,
   "id": "e3d8425f",
   "metadata": {},
   "outputs": [],
   "source": [
    "lstm = lstm_model.Lstm(TOKENIZER)\n",
    "lstm.train_model(n_epochs=3, l_rate=0.002, tokenizer=TOKENIZER,\n",
    "                 train_loader=data_loaders[0], val_loader=data_loaders[1])\n",
    "lstm.save(\"models/lstm.pth\")"
   ]
  },
  {
   "cell_type": "markdown",
   "id": "f8f3184f",
   "metadata": {},
   "source": [
    "В ходе обучения предсказываем 3 слова для каждого предложения.\n",
    "\n",
    "Почему так ? В задании сказано \"предсказать оставшуюся 1/4 часть предложения\". \\\n",
    "Т. к. предложения разной длины, то элементы батча будут обработаны разное число раз. \\\n",
    "Это ограничит возможности использования батчей, вот возможные варианты:\n",
    "- Отказаться от батчей вовсе.\n",
    "- Отсортировать предложения по длине и использовать маленький батч (чтобы длины в батче совпадали)\n",
    "- Зафиксирваоть число слов (1/4 минимальной длины предложения или максмальной и т. п.)\n",
    "\n",
    "\n",
    "Получается логика обработки, которая не имеет никакого отношения к обучению нейросетям. Как будто, эта работа лишняя. \\\n",
    "Если вы настаиваете, я решу задачу одним из описанных способов."
   ]
  },
  {
   "cell_type": "code",
   "execution_count": null,
   "id": "e097e899",
   "metadata": {},
   "outputs": [],
   "source": [
    "NUM_WORDS = 3"
   ]
  },
  {
   "cell_type": "markdown",
   "id": "ca439fac",
   "metadata": {},
   "source": [
    "Инференс с авторегрессией"
   ]
  },
  {
   "cell_type": "code",
   "execution_count": null,
   "id": "5d5d4edf",
   "metadata": {},
   "outputs": [],
   "source": [
    "# Заполняем датасет для инференса, т. к. мы обучаем модель предсказывать только\n",
    "# 1 слово, а инференс хотим делать для нескольких.\n",
    "lstm_data = []\n",
    "true_data = []\n",
    "for i in range(0, len(splits['test'])):\n",
    "    words = splits['test'][i].split()\n",
    "    if len(words) < MIN_LEN + NUM_WORDS:\n",
    "        continue\n",
    "    ctx_len = len(words) - NUM_WORDS\n",
    "    context = ' '.join(words[:ctx_len])\n",
    "    target = ' '.join(words[ctx_len:])\n",
    "    lstm_data.append(context)\n",
    "    true_data.append(context + ' ' + target)\n",
    "\n",
    "# Данные для инференса трансформера будут точно такие же, делаем копию.\n",
    "gpt2_data = lstm_data"
   ]
  },
  {
   "cell_type": "code",
   "execution_count": null,
   "id": "61dea6d9",
   "metadata": {},
   "outputs": [],
   "source": [
    "# Проходимся по всему датасету и генерируем массив предсказанных слов.\n",
    "# Далее, прибавляем предсказанное слово ко входам.\n",
    "for i in range(0, NUM_WORDS):\n",
    "    _, dloader = data_set.prepare_data(\n",
    "        lstm_data, shuffle=False, num_targets=0)\n",
    "    preds = lstm.inference(loader=dloader, tokenizer=TOKENIZER)\n",
    "    lstm_data = [x + ' ' + y for x, y in zip(lstm_data, preds)]\n",
    "\n",
    "rouge_score = ROUGE.compute(predictions=lstm_data, references=true_data)\n",
    "print('ROUGE metrics')\n",
    "for k, v in rouge_score.items():\n",
    "    print(f\"{k}: {v:.4f}\")"
   ]
  },
  {
   "cell_type": "markdown",
   "id": "44786259",
   "metadata": {},
   "source": [
    "Аналогичная процедура для трансформера.\n",
    "\n",
    "Использование `batch_size`, отличного от 1 приводит к исключению\n",
    "\n",
    "```\n",
    "/pytorch/aten/src/ATen/native/cuda/Indexing.cu:1553: indexSelectLargeIndex: block: [78,0,0], thread: [95,0,0] Assertion `srcIndex < srcSelectDimSize` failed.\n",
    "```\n",
    "\n",
    "Которое воспроизводится на ВМ и на моём ноутбуке, поэтому сильно уменьшим размер датасета. \\\n",
    "Т. к. модель уже обучена, качество результата не изменится."
   ]
  },
  {
   "cell_type": "code",
   "execution_count": null,
   "id": "1d5cc692",
   "metadata": {},
   "outputs": [],
   "source": [
    "GPT2_CAP=100\n",
    "gpt2_data = gpt2_data[:GPT2_CAP]\n",
    "\n",
    "gpt2 = transformer.DistilGPT2()\n",
    "for i in range(0, NUM_WORDS):\n",
    "    preds = gpt2.inference(gpt2_data)\n",
    "    gpt2_data = [x + ' ' + y for x, y in zip(gpt2_data, preds)]\n",
    "\n",
    "rouge_score = ROUGE.compute(predictions=gpt2_data, references=true_data[:GPT2_CAP])\n",
    "print('ROUGE metrics')\n",
    "for k, v in rouge_score.items():\n",
    "    print(f\"{k}: {v:.4f}\")"
   ]
  },
  {
   "cell_type": "markdown",
   "id": "2ee31708",
   "metadata": {},
   "source": [
    "Посмотрим на некоторые результаты работы"
   ]
  },
  {
   "cell_type": "code",
   "execution_count": null,
   "id": "b7325b16",
   "metadata": {},
   "outputs": [],
   "source": [
    "print(\"Some LSTM predictions:\")\n",
    "for i in range(0, 3):\n",
    "    print(lstm_data[i])\n",
    "\n",
    "print(\"Some GPT2 predictions:\")\n",
    "for i in range(0, 3):\n",
    "    print(gpt2_data[i])\n",
    "\n",
    "print(\"Actual sentences:\")\n",
    "for i in range(0, 3):\n",
    "    print(true_data[i])"
   ]
  },
  {
   "cell_type": "markdown",
   "id": "d12c0e16",
   "metadata": {},
   "source": [
    "Выводы:\n",
    "- Использование трансформера избыточно для этой задачи.\n",
    "- LSTM с небольшим скрытым состоянием (128) справляется с задачей предсказания следующего слова лучше.\n",
    "- Эксперименты по увеличению размера скрытого состояния LSTM (до 384) показали, что на коротких текстах это бессмысленно. Accuracy достигает значения, близкого к максимальному уже на 1й эпохе, а потом прекращает рост.\n",
    "- Меньший размер скрытого состояния (128) даёт схожее значение accuracy уже на 3й эпохе обучения.\n",
    "- Траснформер выдаёт более \"осмысленные\", но менее точные предсказания при авторегрессии."
   ]
  }
 ],
 "metadata": {
  "kernelspec": {
   "display_name": "venv_sprint_2",
   "language": "python",
   "name": "python3"
  },
  "language_info": {
   "codemirror_mode": {
    "name": "ipython",
    "version": 3
   },
   "file_extension": ".py",
   "mimetype": "text/x-python",
   "name": "python",
   "nbconvert_exporter": "python",
   "pygments_lexer": "ipython3",
   "version": "3.12.11"
  }
 },
 "nbformat": 4,
 "nbformat_minor": 5
}
